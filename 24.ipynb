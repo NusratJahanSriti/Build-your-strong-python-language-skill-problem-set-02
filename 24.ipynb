{
  "nbformat": 4,
  "nbformat_minor": 0,
  "metadata": {
    "colab": {
      "provenance": []
    },
    "kernelspec": {
      "name": "python3",
      "display_name": "Python 3"
    },
    "language_info": {
      "name": "python"
    }
  },
  "cells": [
    {
      "cell_type": "markdown",
      "source": [
        "**24. Write a function to find the GCD (Greatest Common Divisor) of two numbers.**"
      ],
      "metadata": {
        "id": "MFoZWpGPbl8T"
      }
    },
    {
      "cell_type": "code",
      "source": [
        "def find_gcd(a, b):\n",
        "    # Ensure a is greater than or equal to b\n",
        "    if a < b:\n",
        "        a, b = b, a #a, b = b, a\n",
        "\n",
        "#a = 5, b = 10\n",
        "## Output: a = 10, b = 5\n",
        "\n",
        "    while b != 0:\n",
        "        # Calculate the remainder\n",
        "        remainder = a % b\n",
        "\n",
        "        # Update a and b\n",
        "        a = b\n",
        "        b = remainder\n",
        "\n",
        "    return a\n",
        "\n",
        "# Take user input for the two numbers\n",
        "num1 = int(input(\"Enter the first number: \"))\n",
        "num2 = int(input(\"Enter the second number: \"))\n",
        "\n",
        "# Find the GCD\n",
        "gcd = find_gcd(num1, num2)\n",
        "#calculate their GCD using the Euclidean algorithm.\n",
        "#The algorithm repeatedly divides the larger number by the smaller number and replaces the larger number with the remainder until the remainder becomes zero.\n",
        "#At that point, the last non-zero remainder is the GCD of the two numbers.\n",
        "\n",
        "# Print the GCD\n",
        "print(\"The GCD of\", num1, \"and\", num2, \"is:\", gcd)"
      ],
      "metadata": {
        "colab": {
          "base_uri": "https://localhost:8080/"
        },
        "id": "e2SGoFxybvY7",
        "outputId": "14932524-3cf3-486d-fe9b-2a8f43583429"
      },
      "execution_count": 1,
      "outputs": [
        {
          "output_type": "stream",
          "name": "stdout",
          "text": [
            "Enter the first number: 78\n",
            "Enter the second number: 45\n",
            "The GCD of 78 and 45 is: 3\n"
          ]
        }
      ]
    }
  ]
}