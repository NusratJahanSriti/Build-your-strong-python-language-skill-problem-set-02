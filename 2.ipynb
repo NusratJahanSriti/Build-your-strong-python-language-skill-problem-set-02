{
  "nbformat": 4,
  "nbformat_minor": 0,
  "metadata": {
    "colab": {
      "provenance": []
    },
    "kernelspec": {
      "name": "python3",
      "display_name": "Python 3"
    },
    "language_info": {
      "name": "python"
    }
  },
  "cells": [
    {
      "cell_type": "markdown",
      "source": [
        "**2. Write a function to calculate the factorial of a given number.**"
      ],
      "metadata": {
        "id": "KUe2PM3LDLow"
      }
    },
    {
      "cell_type": "code",
      "source": [
        "def calculate_factorial(n):\n",
        "    factorial = 1\n",
        "\n",
        "    if n < 0:\n",
        "        return \"Factorial is undefined for negative numbers.\"\n",
        "    elif n == 0:\n",
        "        return 1\n",
        "\n",
        "    for i in range(1, n + 1):\n",
        "        factorial *= i\n",
        "\n",
        "    return factorial\n",
        "\n",
        "# Take user input for the number\n",
        "num = int(input(\"Enter a number: \"))\n",
        "\n",
        "# Calculate the factorial of the number\n",
        "result = calculate_factorial(num)\n",
        "print(result)"
      ],
      "metadata": {
        "colab": {
          "base_uri": "https://localhost:8080/"
        },
        "id": "wdU424E-DWlO",
        "outputId": "ac733c5f-ad50-4a08-88bd-15b9a89dd5da"
      },
      "execution_count": 1,
      "outputs": [
        {
          "output_type": "stream",
          "name": "stdout",
          "text": [
            "Enter a number: 6\n",
            "720\n"
          ]
        }
      ]
    }
  ]
}