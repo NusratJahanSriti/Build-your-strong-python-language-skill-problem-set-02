{
  "nbformat": 4,
  "nbformat_minor": 0,
  "metadata": {
    "colab": {
      "provenance": []
    },
    "kernelspec": {
      "name": "python3",
      "display_name": "Python 3"
    },
    "language_info": {
      "name": "python"
    }
  },
  "cells": [
    {
      "cell_type": "markdown",
      "source": [
        "**1. Write a function that takes two numbers as input and returns their sum.**"
      ],
      "metadata": {
        "id": "37GRdO0qArTg"
      }
    },
    {
      "cell_type": "code",
      "source": [
        "def calculate_sum(a, b):\n",
        "    return a + b\n",
        "\n",
        "# Take user input for the two numbers\n",
        "num1 = float(input(\"Enter the first number: \"))\n",
        "num2 = float(input(\"Enter the second number: \"))\n",
        "\n",
        "# Calculate the sum of the two numbers\n",
        "result = calculate_sum(num1, num2)\n",
        "print(\"The sum is:\", result)"
      ],
      "metadata": {
        "colab": {
          "base_uri": "https://localhost:8080/"
        },
        "id": "2VTqAqYTAuRR",
        "outputId": "feac2f39-3897-4074-f330-8c2839e3c367"
      },
      "execution_count": 1,
      "outputs": [
        {
          "output_type": "stream",
          "name": "stdout",
          "text": [
            "Enter the first number: 3.6\n",
            "Enter the second number: 8.7\n",
            "The sum is: 12.299999999999999\n"
          ]
        }
      ]
    }
  ]
}