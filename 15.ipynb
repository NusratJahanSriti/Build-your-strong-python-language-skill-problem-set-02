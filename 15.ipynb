{
  "nbformat": 4,
  "nbformat_minor": 0,
  "metadata": {
    "colab": {
      "provenance": []
    },
    "kernelspec": {
      "name": "python3",
      "display_name": "Python 3"
    },
    "language_info": {
      "name": "python"
    }
  },
  "cells": [
    {
      "cell_type": "markdown",
      "source": [
        "**15. Write a function that takes a list of numbers as input and returns the product of all the numbers.**"
      ],
      "metadata": {
        "id": "fYMdQKh-Ut9f"
      }
    },
    {
      "cell_type": "code",
      "source": [
        "def calculate_product(numbers):\n",
        "    product = 1\n",
        "\n",
        "    for num in numbers:\n",
        "        product *= num\n",
        "\n",
        "    return product\n",
        "\n",
        "# Take user input for the list of numbers\n",
        "user_input = input(\"Enter a list of numbers separated by spaces: \")\n",
        "numbers = list(map(float, user_input.split())) #will create a list of floating-point numbers using the map() function and float() to convert the user input into numeric values.\n",
        "\n",
        "# Calculate the product of the numbers\n",
        "product_of_numbers = calculate_product(numbers)\n",
        "\n",
        "# Print the product of the numbers\n",
        "print(\"The product of the numbers is:\", product_of_numbers)"
      ],
      "metadata": {
        "colab": {
          "base_uri": "https://localhost:8080/"
        },
        "id": "vJTPJaeUU0RW",
        "outputId": "e2e16e27-af3f-4062-90ab-c4743eb20b16"
      },
      "execution_count": 1,
      "outputs": [
        {
          "output_type": "stream",
          "name": "stdout",
          "text": [
            "Enter a list of numbers separated by spaces: 4.7 5 7 \n",
            "The product of the numbers is: 164.5\n"
          ]
        }
      ]
    }
  ]
}