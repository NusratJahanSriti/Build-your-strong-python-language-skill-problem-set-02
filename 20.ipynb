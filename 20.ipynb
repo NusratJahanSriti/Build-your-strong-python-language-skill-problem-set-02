{
  "nbformat": 4,
  "nbformat_minor": 0,
  "metadata": {
    "colab": {
      "provenance": []
    },
    "kernelspec": {
      "name": "python3",
      "display_name": "Python 3"
    },
    "language_info": {
      "name": "python"
    }
  },
  "cells": [
    {
      "cell_type": "markdown",
      "source": [
        "**20. Write a function that takes a list of strings as input and returns the count of words in the list.**"
      ],
      "metadata": {
        "id": "avrY7RzIYIsc"
      }
    },
    {
      "cell_type": "code",
      "source": [
        "def count_words(string_list):\n",
        "    word_count = 0\n",
        "\n",
        "    for string in string_list:\n",
        "        words = string.split()\n",
        "        word_count += len(words)\n",
        "\n",
        "    return word_count\n",
        "\n",
        "# Take user input for the list of strings\n",
        "user_input = input(\"Enter a list of strings separated by spaces: \")\n",
        "string_list = user_input.split()\n",
        "\n",
        "# Count the words in the list\n",
        "total_words = count_words(string_list)\n",
        "\n",
        "# Print the count of words\n",
        "print(\"Total words:\", total_words)"
      ],
      "metadata": {
        "colab": {
          "base_uri": "https://localhost:8080/"
        },
        "id": "49E_vncYYOGk",
        "outputId": "790aaf67-edf6-4972-8b85-50251b115185"
      },
      "execution_count": 1,
      "outputs": [
        {
          "output_type": "stream",
          "name": "stdout",
          "text": [
            "Enter a list of strings separated by spaces: She is a singer.\n",
            "Total words: 4\n"
          ]
        }
      ]
    }
  ]
}