{
  "nbformat": 4,
  "nbformat_minor": 0,
  "metadata": {
    "colab": {
      "provenance": []
    },
    "kernelspec": {
      "name": "python3",
      "display_name": "Python 3"
    },
    "language_info": {
      "name": "python"
    }
  },
  "cells": [
    {
      "cell_type": "markdown",
      "source": [
        "**23. Write a function that takes a list of strings as input and returns the longest string in the list.**"
      ],
      "metadata": {
        "id": "iOhsXhW6Z2IN"
      }
    },
    {
      "cell_type": "code",
      "source": [
        "def find_longest_string(string_list):\n",
        "    longest_string = \"\" #The variable longest_string is initialized as an empty string.\n",
        "\n",
        "    for string in string_list:\n",
        "        if len(string) > len(longest_string):\n",
        "            longest_string = string\n",
        "\n",
        "    return longest_string\n",
        "\n",
        "# Take user input for the list of strings\n",
        "user_input = input(\"Enter a list of strings separated by spaces: \")\n",
        "string_list = user_input.split()\n",
        "\n",
        "# Find the longest string\n",
        "longest_string = find_longest_string(string_list)\n",
        "\n",
        "# Print the longest string\n",
        "print(\"The longest string is:\", longest_string)"
      ],
      "metadata": {
        "colab": {
          "base_uri": "https://localhost:8080/"
        },
        "id": "L0qDRbK6Z6jU",
        "outputId": "81347b6c-9455-40e4-bae5-fe19ff32bd53"
      },
      "execution_count": 2,
      "outputs": [
        {
          "output_type": "stream",
          "name": "stdout",
          "text": [
            "Enter a list of strings separated by spaces: banana apple mango\n",
            "The longest string is: banana\n"
          ]
        }
      ]
    }
  ]
}