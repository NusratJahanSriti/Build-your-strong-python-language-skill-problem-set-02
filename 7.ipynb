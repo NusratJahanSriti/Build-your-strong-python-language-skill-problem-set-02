{
  "nbformat": 4,
  "nbformat_minor": 0,
  "metadata": {
    "colab": {
      "provenance": []
    },
    "kernelspec": {
      "name": "python3",
      "display_name": "Python 3"
    },
    "language_info": {
      "name": "python"
    }
  },
  "cells": [
    {
      "cell_type": "markdown",
      "source": [
        "**7. Write a function to count the number of vowels in a given string.**"
      ],
      "metadata": {
        "id": "yNG9JddRP-mS"
      }
    },
    {
      "cell_type": "code",
      "source": [
        "def count_vowels(input_string):\n",
        "    vowels = \"aeiouAEIOU\"\n",
        "    count = 0\n",
        "\n",
        "    for char in input_string:\n",
        "        if char in vowels:\n",
        "            count += 1\n",
        "\n",
        "    return count\n",
        "\n",
        "# Take user input for the string\n",
        "user_input = input(\"Enter a string: \")\n",
        "\n",
        "# Count the number of vowels in the string\n",
        "vowel_count = count_vowels(user_input)\n",
        "\n",
        "# Print the vowel count\n",
        "print(\"The number of vowels in the string is:\", vowel_count)\n"
      ],
      "metadata": {
        "colab": {
          "base_uri": "https://localhost:8080/"
        },
        "id": "DJXAR0ObQCMR",
        "outputId": "469bf988-1bba-4dc0-bfb6-1e22f8efaf3e"
      },
      "execution_count": 1,
      "outputs": [
        {
          "output_type": "stream",
          "name": "stdout",
          "text": [
            "Enter a string: Hi Bangladesh..\n",
            "The number of vowels in the string is: 4\n"
          ]
        }
      ]
    }
  ]
}