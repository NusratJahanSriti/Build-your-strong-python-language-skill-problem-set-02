{
  "nbformat": 4,
  "nbformat_minor": 0,
  "metadata": {
    "colab": {
      "provenance": []
    },
    "kernelspec": {
      "name": "python3",
      "display_name": "Python 3"
    },
    "language_info": {
      "name": "python"
    }
  },
  "cells": [
    {
      "cell_type": "markdown",
      "source": [
        "**12. Write a function to calculate the Fibonacci series up to a given number.**"
      ],
      "metadata": {
        "id": "7T490J2WTc3o"
      }
    },
    {
      "cell_type": "code",
      "source": [
        "def fibonacci_series(n):\n",
        "    series = []\n",
        "    a, b = 0, 1\n",
        "\n",
        "    while a <= n:\n",
        "        series.append(a)\n",
        "        a, b = b, a + b\n",
        "\n",
        "    return series\n",
        "\n",
        "# Take user input for the number\n",
        "user_input = input(\"Enter a number: \")\n",
        "number = int(user_input)\n",
        "\n",
        "# Calculate the Fibonacci series up to the given number\n",
        "fibonacci_series = fibonacci_series(number)\n",
        "\n",
        "# Print the Fibonacci series\n",
        "print(\"Fibonacci series:\", fibonacci_series)\n"
      ],
      "metadata": {
        "colab": {
          "base_uri": "https://localhost:8080/"
        },
        "id": "JixEP3KGTjH2",
        "outputId": "f4851476-85e7-47ed-eadf-12ce200eb293"
      },
      "execution_count": 1,
      "outputs": [
        {
          "output_type": "stream",
          "name": "stdout",
          "text": [
            "Enter a number: 70\n",
            "Fibonacci series: [0, 1, 1, 2, 3, 5, 8, 13, 21, 34, 55]\n"
          ]
        }
      ]
    }
  ]
}