{
  "nbformat": 4,
  "nbformat_minor": 0,
  "metadata": {
    "colab": {
      "provenance": []
    },
    "kernelspec": {
      "name": "python3",
      "display_name": "Python 3"
    },
    "language_info": {
      "name": "python"
    }
  },
  "cells": [
    {
      "cell_type": "markdown",
      "source": [
        "**6. Write a function that takes a list of strings as input and returns the shortest string in the list.**"
      ],
      "metadata": {
        "id": "Qa4NUY7GFjFX"
      }
    },
    {
      "cell_type": "code",
      "source": [
        "def find_shortest_string(strings):\n",
        "    if not strings:\n",
        "        return None\n",
        "\n",
        "    shortest = strings[0] # initializes the variable shortest to the first string in the list strings\n",
        "\n",
        "    for string in strings:\n",
        "        if len(string) < len(shortest):\n",
        "            shortest = string\n",
        "\n",
        "    return shortest\n",
        "\n",
        "# Take user input for the list of strings\n",
        "user_input = input(\"Enter a list of strings separated by spaces: \")\n",
        "strings = user_input.split()\n",
        "\n",
        "# Find the shortest string in the list\n",
        "shortest_string = find_shortest_string(strings)\n",
        "\n",
        "# Print the shortest string\n",
        "print(\"The shortest string is:\", shortest_string)"
      ],
      "metadata": {
        "id": "CxLn51dGFu43",
        "colab": {
          "base_uri": "https://localhost:8080/"
        },
        "outputId": "0baeb2f1-e11e-4091-85c1-2bc1d4fd6ee4"
      },
      "execution_count": 1,
      "outputs": [
        {
          "output_type": "stream",
          "name": "stdout",
          "text": [
            "Enter a list of strings separated by spaces: My name is Nusrat\n",
            "The shortest string is: My\n"
          ]
        }
      ]
    }
  ]
}