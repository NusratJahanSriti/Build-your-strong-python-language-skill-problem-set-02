{
  "nbformat": 4,
  "nbformat_minor": 0,
  "metadata": {
    "colab": {
      "provenance": []
    },
    "kernelspec": {
      "name": "python3",
      "display_name": "Python 3"
    },
    "language_info": {
      "name": "python"
    }
  },
  "cells": [
    {
      "cell_type": "markdown",
      "source": [
        "**21. Write a function to remove all duplicates from a given list.**"
      ],
      "metadata": {
        "id": "lgSMWW8-YmQU"
      }
    },
    {
      "cell_type": "code",
      "source": [
        "def remove_duplicates(input_list):\n",
        "    unique_list = list(set(input_list))\n",
        "    return unique_list\n",
        "\n",
        "# Take user input for the list of elements\n",
        "user_input = input(\"Enter a list of elements separated by spaces: \")\n",
        "input_list = user_input.split()\n",
        "\n",
        "# Remove duplicates from the list\n",
        "unique_list = remove_duplicates(input_list)\n",
        "\n",
        "# Print the list with duplicates removed\n",
        "print(\"List with duplicates removed:\", unique_list)\n",
        "\n",
        "#it will split the input into a list using the split() method.\n",
        "#Then, it creates a set from the list, which automatically removes duplicates due to the nature of sets.\n",
        "#Finally, it converts the set back to a list using the list() function and returns the resulting list with duplicates removed.\n",
        ""
      ],
      "metadata": {
        "colab": {
          "base_uri": "https://localhost:8080/"
        },
        "id": "9FFB5VLiYtie",
        "outputId": "426bd69b-ffdb-4e8d-8812-5f7dc009edf5"
      },
      "execution_count": 1,
      "outputs": [
        {
          "output_type": "stream",
          "name": "stdout",
          "text": [
            "Enter a list of elements separated by spaces: 3 5 4 8 9 5 7 \n",
            "List with duplicates removed: ['5', '8', '9', '3', '4', '7']\n"
          ]
        }
      ]
    }
  ]
}