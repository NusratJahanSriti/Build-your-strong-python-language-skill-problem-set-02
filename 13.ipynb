{
  "nbformat": 4,
  "nbformat_minor": 0,
  "metadata": {
    "colab": {
      "provenance": []
    },
    "kernelspec": {
      "name": "python3",
      "display_name": "Python 3"
    },
    "language_info": {
      "name": "python"
    }
  },
  "cells": [
    {
      "cell_type": "markdown",
      "source": [
        "**13. Write a function that takes a list of numbers as input and returns the sum of all the numbers.**"
      ],
      "metadata": {
        "id": "7K0Axh1yTxbn"
      }
    },
    {
      "cell_type": "code",
      "source": [
        "def calculate_sum(numbers):\n",
        "    total_sum = sum(numbers)\n",
        "    return total_sum\n",
        "\n",
        "# Take user input for the list of numbers\n",
        "user_input = input(\"Enter a list of numbers separated by spaces: \")\n",
        "numbers = list(map(float, user_input.split()))\n",
        "\n",
        "# Calculate the sum of the numbers\n",
        "sum_of_numbers = calculate_sum(numbers)\n",
        "\n",
        "# Print the sum of the numbers\n",
        "print(\"The sum of the numbers is:\", sum_of_numbers)"
      ],
      "metadata": {
        "colab": {
          "base_uri": "https://localhost:8080/"
        },
        "id": "Q5nfi7ryT4H2",
        "outputId": "83fcd603-4989-45eb-b251-854d1eaba00a"
      },
      "execution_count": 2,
      "outputs": [
        {
          "output_type": "stream",
          "name": "stdout",
          "text": [
            "Enter a list of numbers separated by spaces: 4.6 5.8 7.8 9.7\n",
            "The sum of the numbers is: 27.9\n"
          ]
        }
      ]
    }
  ]
}